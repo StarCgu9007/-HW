{
  "cells": [
    {
      "cell_type": "markdown",
      "metadata": {
        "id": "yd7716hCBcfK"
      },
      "source": [
        "**All-ones or all-zeros tensors**"
      ]
    },
    {
      "cell_type": "code",
      "execution_count": null,
      "metadata": {
        "id": "FpOfIv5YBcfK",
        "outputId": "f46559d0-f7c0-4691-8bc2-d184648eb083",
        "colab": {
          "base_uri": "https://localhost:8080/"
        }
      },
      "outputs": [
        {
          "output_type": "stream",
          "name": "stdout",
          "text": [
            "tf.Tensor(\n",
            "[[[1. 1. 1. 1.]\n",
            "  [1. 1. 1. 1.]\n",
            "  [1. 1. 1. 1.]]\n",
            "\n",
            " [[1. 1. 1. 1.]\n",
            "  [1. 1. 1. 1.]\n",
            "  [1. 1. 1. 1.]]], shape=(2, 3, 4), dtype=float32)\n"
          ]
        }
      ],
      "source": [
        "import tensorflow as tf\n",
        "x = tf.ones(shape=(2,3,4)) #tf.ones(shape=(2,1))\n",
        "print(x)"
      ]
    },
    {
      "cell_type": "markdown",
      "source": [
        "↑ ones()為產生全為1的矩阵：\n",
        "\n",
        "ones(N)=NxN、ones(M,N)=MxN(M個橫排、N個直排)、ones(M,N,P)=M個NxP(N個橫排、P個直排，共M次)"
      ],
      "metadata": {
        "id": "PCz97AuADBGt"
      }
    },
    {
      "cell_type": "code",
      "execution_count": null,
      "metadata": {
        "id": "zHmfrpJ9BcfL",
        "outputId": "b386f208-5c67-41d6-da8d-7ba6c46126fb",
        "colab": {
          "base_uri": "https://localhost:8080/"
        }
      },
      "outputs": [
        {
          "output_type": "stream",
          "name": "stdout",
          "text": [
            "tf.Tensor(\n",
            "[[[0. 0. 0. 0.]\n",
            "  [0. 0. 0. 0.]\n",
            "  [0. 0. 0. 0.]]\n",
            "\n",
            " [[0. 0. 0. 0.]\n",
            "  [0. 0. 0. 0.]\n",
            "  [0. 0. 0. 0.]]], shape=(2, 3, 4), dtype=float32)\n"
          ]
        }
      ],
      "source": [
        "x = tf.zeros(shape=(2,3,4)) #tf.zeros(shape=(2,1))\n",
        "print(x)"
      ]
    },
    {
      "cell_type": "markdown",
      "source": [
        "↑ 類似於上，zeros()為產生全為0的矩阵"
      ],
      "metadata": {
        "id": "oXn9DCwCJQZ0"
      }
    },
    {
      "cell_type": "markdown",
      "metadata": {
        "id": "qiDZaSyDBcfL"
      },
      "source": [
        "**Random tensors**"
      ]
    },
    {
      "cell_type": "code",
      "execution_count": null,
      "metadata": {
        "id": "13ikEWtwBcfM",
        "colab": {
          "base_uri": "https://localhost:8080/"
        },
        "outputId": "052b4686-4dcc-4b8e-9d67-d5511ee54947"
      },
      "outputs": [
        {
          "output_type": "stream",
          "name": "stdout",
          "text": [
            "tf.Tensor(\n",
            "[[[ 0.3935743   3.2108412 ]\n",
            "  [ 2.9234996   4.1070175 ]\n",
            "  [ 1.6832899   0.22584975]]\n",
            "\n",
            " [[ 0.3231598   0.04296333]\n",
            "  [ 2.2614152   0.25149125]\n",
            "  [-0.4643135  -0.9915893 ]]\n",
            "\n",
            " [[ 1.2167084   3.8897805 ]\n",
            "  [ 2.3588505  -1.0935402 ]\n",
            "  [-1.7997553  -2.1214826 ]]], shape=(3, 3, 2), dtype=float32)\n"
          ]
        }
      ],
      "source": [
        "x = tf.random.normal(shape=(3,3,2), mean=1., stddev=2.) #tf.random.normal(shape=(3,1), mean=0., stddev=1.)\n",
        "print(x)"
      ]
    },
    {
      "cell_type": "markdown",
      "source": [
        "↑ random.normal為高斯正態分佈中抽取隨機樣本：\n",
        "mean=平均、stddev=標準差"
      ],
      "metadata": {
        "id": "kl9ICNjRQQrV"
      }
    },
    {
      "cell_type": "code",
      "execution_count": null,
      "metadata": {
        "id": "O9LgND50BcfM",
        "colab": {
          "base_uri": "https://localhost:8080/"
        },
        "outputId": "50b9d9e5-e403-471f-d02c-55633de72539"
      },
      "outputs": [
        {
          "output_type": "stream",
          "name": "stdout",
          "text": [
            "tf.Tensor(\n",
            "[[[0.81398404 0.8779763  0.6488584  0.03327441]\n",
            "  [0.3616084  0.55362344 0.26886296 0.20718491]]\n",
            "\n",
            " [[0.00159597 0.34896326 0.71654236 0.12340271]\n",
            "  [0.05497503 0.0383389  0.7441828  0.65150654]]\n",
            "\n",
            " [[0.995509   0.38615513 0.4350518  0.14391744]\n",
            "  [0.5192455  0.9024168  0.5131222  0.8364514 ]]], shape=(3, 2, 4), dtype=float32)\n"
          ]
        }
      ],
      "source": [
        "x = tf.random.uniform(shape=(3,2,4), minval=0., maxval=1.) #tf.random.uniform(shape=(3,1), minval=0., maxval=1.)\n",
        "print(x)"
      ]
    },
    {
      "cell_type": "markdown",
      "source": [
        "↑ random.uniform為最大最小範圍內隨機：\n",
        "minval=最小值、maxval=最大值"
      ],
      "metadata": {
        "id": "mQDsAXR7V6WR"
      }
    },
    {
      "cell_type": "markdown",
      "metadata": {
        "id": "O0PhPJtXBcfM"
      },
      "source": [
        "**NumPy arrays are assignable**"
      ]
    },
    {
      "cell_type": "code",
      "execution_count": null,
      "metadata": {
        "id": "RP0N-RMeBcfN",
        "colab": {
          "base_uri": "https://localhost:8080/"
        },
        "outputId": "53a97da5-8dd0-4c4d-9835-bc9edf172200"
      },
      "outputs": [
        {
          "output_type": "execute_result",
          "data": {
            "text/plain": [
              "array([[[0., 0., 0., 0.],\n",
              "        [1., 1., 1., 1.],\n",
              "        [1., 1., 1., 1.]],\n",
              "\n",
              "       [[1., 1., 1., 1.],\n",
              "        [1., 1., 1., 0.],\n",
              "        [1., 1., 1., 1.]]])"
            ]
          },
          "metadata": {},
          "execution_count": 39
        }
      ],
      "source": [
        "import numpy as np\n",
        "x = np.ones(shape=(2,3,4)) #np.ones(shape=(2,2))\n",
        "x[0,0]=0.\n",
        "\n",
        "x[1,1,3]=0.\n",
        "x"
      ]
    },
    {
      "cell_type": "markdown",
      "source": [
        "↑ 2個3x4的矩陣中：\n",
        "\n",
        "x[0,0]=0.為將第1個(上方)3x4矩陣的第1橫排值全改0、\n",
        "\n",
        "x[1,1,3]=0.為將第2個(下方)3x4矩陣的第2橫排第4個值改0"
      ],
      "metadata": {
        "id": "shOTgqWMXOYU"
      }
    },
    {
      "cell_type": "markdown",
      "metadata": {
        "id": "Gy0nNShPBcfN"
      },
      "source": [
        "**Creating a TensorFlow variable**"
      ]
    },
    {
      "cell_type": "code",
      "execution_count": null,
      "metadata": {
        "id": "WZLmm3BZBcfN",
        "colab": {
          "base_uri": "https://localhost:8080/"
        },
        "outputId": "c5f7b2fa-751b-4e4e-c7ac-d4cb6153adbd"
      },
      "outputs": [
        {
          "output_type": "stream",
          "name": "stdout",
          "text": [
            "<tf.Variable 'Variable:0' shape=(3, 1) dtype=float32, numpy=\n",
            "array([[-2.609444  ],\n",
            "       [ 0.45376986],\n",
            "       [-0.61330235]], dtype=float32)>\n"
          ]
        }
      ],
      "source": [
        "v = tf.Variable(initial_value=tf.random.normal(shape=(3,1)))\n",
        "print(v)"
      ]
    },
    {
      "cell_type": "markdown",
      "metadata": {
        "id": "NxCUvEW8BcfO"
      },
      "source": [
        "**Assigning a value to a TensorFlow variable**"
      ]
    },
    {
      "cell_type": "code",
      "execution_count": null,
      "metadata": {
        "id": "Nsu9M-emBcfO",
        "colab": {
          "base_uri": "https://localhost:8080/"
        },
        "outputId": "75e6e6fc-b76b-4cf4-edc7-09722ce5a561"
      },
      "outputs": [
        {
          "output_type": "execute_result",
          "data": {
            "text/plain": [
              "<tf.Variable 'UnreadVariable' shape=(3, 1) dtype=float32, numpy=\n",
              "array([[1.],\n",
              "       [1.],\n",
              "       [1.]], dtype=float32)>"
            ]
          },
          "metadata": {},
          "execution_count": 49
        }
      ],
      "source": [
        "v.assign(tf.ones((3,1)))"
      ]
    },
    {
      "cell_type": "markdown",
      "metadata": {
        "id": "EXGXahcDBcfO"
      },
      "source": [
        "**Assigning a value to a subset of a TensorFlow variable**"
      ]
    },
    {
      "cell_type": "code",
      "execution_count": null,
      "metadata": {
        "id": "E7LMcKECBcfO",
        "colab": {
          "base_uri": "https://localhost:8080/"
        },
        "outputId": "45a842d9-3794-40de-e7cb-a2c509494a37"
      },
      "outputs": [
        {
          "output_type": "execute_result",
          "data": {
            "text/plain": [
              "<tf.Variable 'UnreadVariable' shape=(3, 1) dtype=float32, numpy=\n",
              "array([[3.],\n",
              "       [1.],\n",
              "       [1.]], dtype=float32)>"
            ]
          },
          "metadata": {},
          "execution_count": 51
        }
      ],
      "source": [
        "v[0,0].assign(3.)"
      ]
    },
    {
      "cell_type": "markdown",
      "source": [
        "↑ 上方已將v設值為3x1的全為1矩陣，而此處將第1個值改為3"
      ],
      "metadata": {
        "id": "MmbHDt78c5k7"
      }
    },
    {
      "cell_type": "markdown",
      "metadata": {
        "id": "Oc5Ss1UIBcfO"
      },
      "source": [
        "**Using `assign_add`**"
      ]
    },
    {
      "cell_type": "code",
      "execution_count": null,
      "metadata": {
        "id": "Jr-GsD26BcfP",
        "colab": {
          "base_uri": "https://localhost:8080/"
        },
        "outputId": "e49f5666-b4c9-4b56-94b9-82bad2bd8a8d"
      },
      "outputs": [
        {
          "output_type": "execute_result",
          "data": {
            "text/plain": [
              "<tf.Variable 'UnreadVariable' shape=(3, 1) dtype=float32, numpy=\n",
              "array([[4.],\n",
              "       [2.],\n",
              "       [2.]], dtype=float32)>"
            ]
          },
          "metadata": {},
          "execution_count": 52
        }
      ],
      "source": [
        "v.assign_add(tf.ones((3,1)))"
      ]
    },
    {
      "cell_type": "markdown",
      "source": [
        "↑ 接續上面，新加入一組3x1的全1陣列，讓v值為(3+1,1+1,1+1)\n",
        "\n",
        "而不斷執行此行的話會一直加總改變原v的值"
      ],
      "metadata": {
        "id": "a93fKXFMfcZy"
      }
    },
    {
      "cell_type": "markdown",
      "metadata": {
        "id": "Fm-1UELVBcfP"
      },
      "source": [
        "#### Tensor operations: Doing math in TensorFlow"
      ]
    },
    {
      "cell_type": "markdown",
      "metadata": {
        "id": "auA4D_kGBcfP"
      },
      "source": [
        "**A few basic math operations**"
      ]
    },
    {
      "cell_type": "code",
      "execution_count": null,
      "metadata": {
        "id": "uhz2XaiHBcfP",
        "colab": {
          "base_uri": "https://localhost:8080/"
        },
        "outputId": "be9bfea2-2d4a-492b-96db-4ba89a67773f"
      },
      "outputs": [
        {
          "output_type": "execute_result",
          "data": {
            "text/plain": [
              "(<tf.Tensor: shape=(3, 3), dtype=float32, numpy=\n",
              " array([[2., 2., 2.],\n",
              "        [2., 2., 2.],\n",
              "        [2., 2., 2.]], dtype=float32)>,\n",
              " <tf.Tensor: shape=(3, 3), dtype=float32, numpy=\n",
              " array([[4., 4., 4.],\n",
              "        [4., 4., 4.],\n",
              "        [4., 4., 4.]], dtype=float32)>,\n",
              " <tf.Tensor: shape=(3, 3), dtype=float32, numpy=\n",
              " array([[1.4142134, 1.4142134, 1.4142134],\n",
              "        [1.4142134, 1.4142134, 1.4142134],\n",
              "        [1.4142134, 1.4142134, 1.4142135]], dtype=float32)>,\n",
              " <tf.Tensor: shape=(3, 3), dtype=float32, numpy=\n",
              " array([[5.414213 , 5.414213 , 5.414213 ],\n",
              "        [5.414213 , 5.414213 , 5.414213 ],\n",
              "        [5.414213 , 5.414213 , 5.4142137]], dtype=float32)>,\n",
              " <tf.Tensor: shape=(3, 3), dtype=float32, numpy=\n",
              " array([[129.94112, 129.94112, 129.94112],\n",
              "        [129.94112, 129.94112, 129.94112],\n",
              "        [129.94112, 129.94112, 129.94113]], dtype=float32)>)"
            ]
          },
          "metadata": {},
          "execution_count": 75
        }
      ],
      "source": [
        "a = tf.ones((3,3))+tf.ones((1,1)) #tf.ones((2,2))\n",
        "b = tf.square(a)\n",
        "c = tf.sqrt(a)\n",
        "d = b + c\n",
        "e = tf.matmul(a,b)\n",
        "e *= d\n",
        "\n",
        "a,b,c,d,e"
      ]
    },
    {
      "cell_type": "markdown",
      "source": [
        "↑ a為設3x3的全1矩陣、b為將a平方、c為將a開根號、\n",
        "\n",
        "d為b+c、e為ab矩陣相乘後再乘d矩陣"
      ],
      "metadata": {
        "id": "lgQO1qPbpnyT"
      }
    },
    {
      "cell_type": "markdown",
      "metadata": {
        "id": "iridTgoBBcfP"
      },
      "source": [
        "#### A second look at the GradientTape API"
      ]
    },
    {
      "cell_type": "markdown",
      "metadata": {
        "id": "wmbprhUnBcfQ"
      },
      "source": [
        "**Using the `GradientTape`**"
      ]
    },
    {
      "cell_type": "code",
      "execution_count": null,
      "metadata": {
        "id": "dUwXb5LtBcfQ"
      },
      "outputs": [],
      "source": [
        "input_var = tf.Variable(initial_value=3.)\n",
        "with tf.GradientTape() as tape:\n",
        "   result = tf.square(input_var)\n",
        "gradient = tape.gradient(result, input_var)"
      ]
    },
    {
      "cell_type": "markdown",
      "metadata": {
        "id": "K-lfMArZBcfR"
      },
      "source": [
        "**Using `GradientTape` with constant tensor inputs**"
      ]
    },
    {
      "cell_type": "code",
      "execution_count": null,
      "metadata": {
        "id": "C1BIBh2yBcfR"
      },
      "outputs": [],
      "source": [
        "input_const = tf.constant(3.)\n",
        "with tf.GradientTape() as tape:\n",
        "   tape.watch(input_const)\n",
        "   result = tf.square(input_const)\n",
        "gradient = tape.gradient(result, input_const)"
      ]
    },
    {
      "cell_type": "markdown",
      "metadata": {
        "id": "YCnzxfePBcfR"
      },
      "source": [
        "**Using nested gradient tapes to compute second-order gradients**"
      ]
    },
    {
      "cell_type": "code",
      "execution_count": null,
      "metadata": {
        "id": "dDVGq1VLBcfR"
      },
      "outputs": [],
      "source": [
        "time = tf.Variable(0.)\n",
        "with tf.GradientTape() as outer_tape:\n",
        "    with tf.GradientTape() as inner_tape:\n",
        "        position =  4.9 * time ** 2\n",
        "    speed = inner_tape.gradient(position, time)\n",
        "acceleration = outer_tape.gradient(speed, time)"
      ]
    },
    {
      "cell_type": "markdown",
      "metadata": {
        "id": "CALa50qhBcfS"
      },
      "source": [
        "#### An end-to-end example: A linear classifier in pure TensorFlow"
      ]
    },
    {
      "cell_type": "markdown",
      "metadata": {
        "id": "K6JfEslaBcfS"
      },
      "source": [
        "**Generating two classes of random points in a 2D plane**"
      ]
    },
    {
      "cell_type": "code",
      "execution_count": null,
      "metadata": {
        "id": "fkdc2ajGBcfS",
        "colab": {
          "base_uri": "https://localhost:8080/"
        },
        "outputId": "ebf41f35-285b-4d4a-b573-e17ccd472ffb"
      },
      "outputs": [
        {
          "output_type": "execute_result",
          "data": {
            "text/plain": [
              "(array([[ 0.68127316,  3.90655274],\n",
              "        [-0.05551552,  2.60447878],\n",
              "        [ 2.26712982,  3.75517387],\n",
              "        ...,\n",
              "        [ 0.10663799,  2.65850446],\n",
              "        [ 0.93350172,  3.66124726],\n",
              "        [ 0.74230311,  3.59692044]]), array([[ 1.99584484,  0.02055041],\n",
              "        [ 3.91186596,  1.29920092],\n",
              "        [ 4.5972866 ,  1.61636841],\n",
              "        ...,\n",
              "        [ 3.29317613, -0.40920975],\n",
              "        [ 2.74068572,  0.22836141],\n",
              "        [ 4.83191164,  1.0274019 ]]))"
            ]
          },
          "metadata": {},
          "execution_count": 94
        }
      ],
      "source": [
        "num_samples_per_class = 1000\n",
        "negative_samples = np.random.multivariate_normal(\n",
        "    mean=[0, 3],\n",
        "    cov=[[1, 0.5],[0.5, 1]],\n",
        "    size=num_samples_per_class)\n",
        "positive_samples = np.random.multivariate_normal(\n",
        "    mean=[3, 0],\n",
        "    cov=[[1, 0.5],[0.5, 1]],\n",
        "    size=num_samples_per_class)\n",
        "\n",
        "negative_samples,  positive_samples"
      ]
    },
    {
      "cell_type": "markdown",
      "metadata": {
        "id": "rz4IV0CKBcfS"
      },
      "source": [
        "**Stacking the two classes into an array with shape (2000, 2)**"
      ]
    },
    {
      "cell_type": "code",
      "execution_count": null,
      "metadata": {
        "id": "ETBr71MjBcfS",
        "colab": {
          "base_uri": "https://localhost:8080/"
        },
        "outputId": "1df308ba-2cae-49f2-aa9c-41bf647cf2ef"
      },
      "outputs": [
        {
          "output_type": "execute_result",
          "data": {
            "text/plain": [
              "array([[ 0.68127316,  3.9065528 ],\n",
              "       [-0.05551552,  2.6044788 ],\n",
              "       [ 2.26713   ,  3.755174  ],\n",
              "       ...,\n",
              "       [ 3.2931762 , -0.40920976],\n",
              "       [ 2.7406857 ,  0.22836141],\n",
              "       [ 4.8319116 ,  1.0274019 ]], dtype=float32)"
            ]
          },
          "metadata": {},
          "execution_count": 97
        }
      ],
      "source": [
        "inputs = np.vstack((negative_samples, positive_samples)).astype(np.float32)\n",
        "inputs"
      ]
    },
    {
      "cell_type": "markdown",
      "source": [
        "↑ vstack()為垂直照順序把數列堆疊"
      ],
      "metadata": {
        "id": "qgZpQHIZ4U2W"
      }
    },
    {
      "cell_type": "markdown",
      "metadata": {
        "id": "3e2ef5A_BcfS"
      },
      "source": [
        "**Generating the corresponding targets (0 and 1)**"
      ]
    },
    {
      "cell_type": "code",
      "execution_count": null,
      "metadata": {
        "id": "7TAuhmtsBcfT",
        "colab": {
          "base_uri": "https://localhost:8080/"
        },
        "outputId": "e1f94627-20ff-49f2-b7c0-d596fa6e7d9a"
      },
      "outputs": [
        {
          "output_type": "execute_result",
          "data": {
            "text/plain": [
              "array([[0.],\n",
              "       [0.],\n",
              "       [0.],\n",
              "       ...,\n",
              "       [1.],\n",
              "       [1.],\n",
              "       [1.]], dtype=float32)"
            ]
          },
          "metadata": {},
          "execution_count": 98
        }
      ],
      "source": [
        "targets = np.vstack((np.zeros((num_samples_per_class, 1), dtype=\"float32\"),\n",
        "                     np.ones((num_samples_per_class, 1), dtype=\"float32\")))\n",
        "targets"
      ]
    },
    {
      "cell_type": "markdown",
      "metadata": {
        "id": "KDb6dIKHBcfT"
      },
      "source": [
        "**Plotting the two point classes**"
      ]
    },
    {
      "cell_type": "code",
      "execution_count": null,
      "metadata": {
        "id": "xI6jbG_5BcfT",
        "colab": {
          "base_uri": "https://localhost:8080/",
          "height": 265
        },
        "outputId": "3763619c-7d80-4e06-f688-03d33fbb9698"
      },
      "outputs": [
        {
          "output_type": "display_data",
          "data": {
            "text/plain": [
              "<Figure size 432x288 with 1 Axes>"
            ],
            "image/png": "[encoded data removed]"
          },
          "metadata": {
            "needs_background": "light"
          }
        }
      ],
      "source": [
        "import matplotlib.pyplot as plt\n",
        "plt.scatter(inputs[:, 0], inputs[:, 1], c=targets[:, 0])\n",
        "plt.show()"
      ]
    },
    {
      "cell_type": "markdown",
      "source": [
        "（⊙ｏ⊙）!!"
      ],
      "metadata": {
        "id": "5LOFvGn951D1"
      }
    },
    {
      "cell_type": "markdown",
      "metadata": {
        "id": "_aKOLYQNBcfT"
      },
      "source": [
        "**Creating the linear classifier variables**"
      ]
    },
    {
      "cell_type": "code",
      "execution_count": null,
      "metadata": {
        "id": "RjzbGhRWBcfT",
        "colab": {
          "base_uri": "https://localhost:8080/"
        },
        "outputId": "f1e6997b-371c-4076-f95e-8e8a7d7284c9"
      },
      "outputs": [
        {
          "output_type": "execute_result",
          "data": {
            "text/plain": [
              "(<tf.Variable 'Variable:0' shape=(2, 1) dtype=float32, numpy=\n",
              " array([[0.16006029],\n",
              "        [0.16305971]], dtype=float32)>,\n",
              " <tf.Variable 'Variable:0' shape=(1,) dtype=float32, numpy=array([0.], dtype=float32)>)"
            ]
          },
          "metadata": {},
          "execution_count": 103
        }
      ],
      "source": [
        "input_dim = 2\n",
        "output_dim = 1\n",
        "W = tf.Variable(initial_value=tf.random.uniform(shape=(input_dim, output_dim)))\n",
        "b = tf.Variable(initial_value=tf.zeros(shape=(output_dim,)))"
      ]
    },
    {
      "cell_type": "markdown",
      "metadata": {
        "id": "IzAnIuvQBcfU"
      },
      "source": [
        "**The forward pass function**"
      ]
    },
    {
      "cell_type": "code",
      "execution_count": null,
      "metadata": {
        "id": "nxhOCQanBcfU"
      },
      "outputs": [],
      "source": [
        "def model(inputs):\n",
        "    return tf.matmul(inputs, W) + b"
      ]
    },
    {
      "cell_type": "markdown",
      "metadata": {
        "id": "cITMZUe5BcfU"
      },
      "source": [
        "**The mean squared error loss function**"
      ]
    },
    {
      "cell_type": "code",
      "execution_count": null,
      "metadata": {
        "id": "07JdsGRzBcfU"
      },
      "outputs": [],
      "source": [
        "def square_loss(targets, predictions):\n",
        "    per_sample_losses = tf.square(targets - predictions)\n",
        "    return tf.reduce_mean(per_sample_losses)"
      ]
    },
    {
      "cell_type": "markdown",
      "metadata": {
        "id": "UpoX1OCcBcfU"
      },
      "source": [
        "**The training step function**"
      ]
    },
    {
      "cell_type": "code",
      "execution_count": null,
      "metadata": {
        "id": "WdgXU2wlBcfU"
      },
      "outputs": [],
      "source": [
        "learning_rate = 0.1\n",
        "\n",
        "def training_step(inputs, targets):\n",
        "    with tf.GradientTape() as tape:\n",
        "        predictions = model(inputs)\n",
        "        loss = square_loss(targets, predictions)\n",
        "    grad_loss_wrt_W, grad_loss_wrt_b = tape.gradient(loss, [W, b])\n",
        "    W.assign_sub(grad_loss_wrt_W * learning_rate)\n",
        "    b.assign_sub(grad_loss_wrt_b * learning_rate)\n",
        "    return loss"
      ]
    },
    {
      "cell_type": "markdown",
      "metadata": {
        "id": "6fEdaxl8BcfV"
      },
      "source": [
        "**The batch training loop**"
      ]
    },
    {
      "cell_type": "code",
      "execution_count": null,
      "metadata": {
        "id": "8CuIb-enBcfV",
        "colab": {
          "base_uri": "https://localhost:8080/"
        },
        "outputId": "3c45fc1c-0bbd-420d-9890-1774f4889c00"
      },
      "outputs": [
        {
          "output_type": "stream",
          "name": "stdout",
          "text": [
            "Loss at step 0: 0.3381\n",
            "Loss at step 1: 0.0897\n",
            "Loss at step 2: 0.0826\n",
            "Loss at step 3: 0.0773\n",
            "Loss at step 4: 0.0727\n",
            "Loss at step 5: 0.0685\n",
            "Loss at step 6: 0.0647\n",
            "Loss at step 7: 0.0612\n",
            "Loss at step 8: 0.0580\n",
            "Loss at step 9: 0.0551\n",
            "Loss at step 10: 0.0525\n",
            "Loss at step 11: 0.0501\n",
            "Loss at step 12: 0.0480\n",
            "Loss at step 13: 0.0460\n",
            "Loss at step 14: 0.0442\n",
            "Loss at step 15: 0.0426\n",
            "Loss at step 16: 0.0411\n",
            "Loss at step 17: 0.0398\n",
            "Loss at step 18: 0.0385\n",
            "Loss at step 19: 0.0374\n",
            "Loss at step 20: 0.0364\n",
            "Loss at step 21: 0.0355\n",
            "Loss at step 22: 0.0347\n",
            "Loss at step 23: 0.0339\n",
            "Loss at step 24: 0.0332\n",
            "Loss at step 25: 0.0326\n",
            "Loss at step 26: 0.0320\n",
            "Loss at step 27: 0.0315\n",
            "Loss at step 28: 0.0310\n",
            "Loss at step 29: 0.0306\n",
            "Loss at step 30: 0.0302\n",
            "Loss at step 31: 0.0298\n",
            "Loss at step 32: 0.0295\n",
            "Loss at step 33: 0.0292\n",
            "Loss at step 34: 0.0289\n",
            "Loss at step 35: 0.0287\n",
            "Loss at step 36: 0.0285\n",
            "Loss at step 37: 0.0283\n",
            "Loss at step 38: 0.0281\n",
            "Loss at step 39: 0.0279\n"
          ]
        }
      ],
      "source": [
        "for step in range(40):\n",
        "    loss = training_step(inputs, targets)\n",
        "    print(f\"Loss at step {step}: {loss:.4f}\")"
      ]
    },
    {
      "cell_type": "code",
      "execution_count": null,
      "metadata": {
        "id": "dsdrk9nyBcfV",
        "colab": {
          "base_uri": "https://localhost:8080/",
          "height": 265
        },
        "outputId": "e3c2ded0-bdaa-426a-d27c-05ae44e0804e"
      },
      "outputs": [
        {
          "output_type": "display_data",
          "data": {
            "text/plain": [
              "<Figure size 432x288 with 1 Axes>"
            ],
            "image/png": "[encoded data removed]"
          },
          "metadata": {
            "needs_background": "light"
          }
        }
      ],
      "source": [
        "predictions = model(inputs)\n",
        "plt.scatter(inputs[:, 0], inputs[:, 1], c=predictions[:, 0] > 0.5)\n",
        "plt.show()"
      ]
    },
    {
      "cell_type": "markdown",
      "source": [
        "(´･ω･`) 分開了?"
      ],
      "metadata": {
        "id": "6e3FBwJ86NaV"
      }
    },
    {
      "cell_type": "code",
      "execution_count": null,
      "metadata": {
        "id": "fS7IFce_BcfV",
        "colab": {
          "base_uri": "https://localhost:8080/",
          "height": 282
        },
        "outputId": "ca69879a-6896-465f-d08c-06a4fcc0582f"
      },
      "outputs": [
        {
          "output_type": "execute_result",
          "data": {
            "text/plain": [
              "<matplotlib.collections.PathCollection at 0x7fb8921ea190>"
            ]
          },
          "metadata": {},
          "execution_count": 109
        },
        {
          "output_type": "display_data",
          "data": {
            "text/plain": [
              "<Figure size 432x288 with 1 Axes>"
            ],
            "image/png": "[encoded data removed]"
          },
          "metadata": {
            "needs_background": "light"
          }
        }
      ],
      "source": [
        "x = np.linspace(-1, 4, 100)\n",
        "y = - W[0] /  W[1] * x + (0.5 - b) / W[1]\n",
        "plt.plot(x, y, \"-r\")\n",
        "plt.scatter(inputs[:, 0], inputs[:, 1], c=predictions[:, 0] > 0.5)"
      ]
    },
    {
      "cell_type": "markdown",
      "source": [
        "┗|｀O′|┛"
      ],
      "metadata": {
        "id": "w2M2-Htj6arl"
      }
    },
    {
      "cell_type": "markdown",
      "metadata": {
        "id": "1wHAAJpyBcfV"
      },
      "source": [
        "## Anatomy of a neural network: Understanding core Keras APIs"
      ]
    },
    {
      "cell_type": "markdown",
      "metadata": {
        "id": "8ofQJpqFBcfV"
      },
      "source": [
        "### Layers: The building blocks of deep learning"
      ]
    },
    {
      "cell_type": "markdown",
      "metadata": {
        "id": "pzDS5ZAJBcfV"
      },
      "source": [
        "#### The base Layer class in Keras"
      ]
    },
    {
      "cell_type": "markdown",
      "metadata": {
        "id": "D4VxB9NCBcfV"
      },
      "source": [
        "**A `Dense` layer implemented as a `Layer` subclass**"
      ]
    },
    {
      "cell_type": "code",
      "execution_count": null,
      "metadata": {
        "id": "zAv0-87_BcfW"
      },
      "outputs": [],
      "source": [
        "from tensorflow import keras\n",
        "\n",
        "class SimpleDense(keras.layers.Layer):\n",
        "\n",
        "    def __init__(self, units, activation=None):\n",
        "        super().__init__()\n",
        "        self.units = units\n",
        "        self.activation = activation\n",
        "\n",
        "    def build(self, input_shape):\n",
        "        input_dim = input_shape[-1]\n",
        "        self.W = self.add_weight(shape=(input_dim, self.units),\n",
        "                                 initializer=\"random_normal\")\n",
        "        self.b = self.add_weight(shape=(self.units,),\n",
        "                                 initializer=\"zeros\")\n",
        "\n",
        "    def call(self, inputs):\n",
        "        y = tf.matmul(inputs, self.W) + self.b\n",
        "        if self.activation is not None:\n",
        "            y = self.activation(y)\n",
        "        return y"
      ]
    },
    {
      "cell_type": "code",
      "execution_count": null,
      "metadata": {
        "id": "Pb8g-fkVBcfW",
        "colab": {
          "base_uri": "https://localhost:8080/"
        },
        "outputId": "0157de7f-056e-4b5f-c829-68ea271ad28c"
      },
      "outputs": [
        {
          "output_type": "stream",
          "name": "stdout",
          "text": [
            "(2, 32)\n"
          ]
        }
      ],
      "source": [
        "my_dense = SimpleDense(units=32, activation=tf.nn.relu)\n",
        "input_tensor = tf.ones(shape=(2, 784))\n",
        "output_tensor = my_dense(input_tensor)\n",
        "print(output_tensor.shape)"
      ]
    },
    {
      "cell_type": "markdown",
      "metadata": {
        "id": "2Ek5fhGnBcfW"
      },
      "source": [
        "#### Automatic shape inference: Building layers on the fly"
      ]
    },
    {
      "cell_type": "code",
      "execution_count": null,
      "metadata": {
        "id": "6WVTRmsSBcfW"
      },
      "outputs": [],
      "source": [
        "from tensorflow.keras import layers\n",
        "layer = layers.Dense(32, activation=\"relu\")"
      ]
    },
    {
      "cell_type": "code",
      "execution_count": null,
      "metadata": {
        "id": "RqgWx7rZBcfW"
      },
      "outputs": [],
      "source": [
        "from tensorflow.keras import models\n",
        "from tensorflow.keras import layers\n",
        "model = models.Sequential([\n",
        "    layers.Dense(32, activation=\"relu\"),\n",
        "    layers.Dense(32)\n",
        "])"
      ]
    },
    {
      "cell_type": "code",
      "execution_count": null,
      "metadata": {
        "id": "N0nzEbZpBcfW"
      },
      "outputs": [],
      "source": [
        "model = keras.Sequential([\n",
        "    SimpleDense(32, activation=\"relu\"),\n",
        "    SimpleDense(64, activation=\"relu\"),\n",
        "    SimpleDense(32, activation=\"relu\"),\n",
        "    SimpleDense(10, activation=\"softmax\")\n",
        "])"
      ]
    },
    {
      "cell_type": "markdown",
      "metadata": {
        "id": "prs3LnAFBcfW"
      },
      "source": [
        "### From layers to models"
      ]
    },
    {
      "cell_type": "markdown",
      "metadata": {
        "id": "u7F0SyHBBcfX"
      },
      "source": [
        "### The \"compile\" step: Configuring the learning process"
      ]
    },
    {
      "cell_type": "code",
      "execution_count": null,
      "metadata": {
        "id": "KACHGDy0BcfX"
      },
      "outputs": [],
      "source": [
        "model = keras.Sequential([keras.layers.Dense(1)])\n",
        "model.compile(optimizer=\"rmsprop\",\n",
        "              loss=\"mean_squared_error\",\n",
        "              metrics=[\"accuracy\"])"
      ]
    },
    {
      "cell_type": "code",
      "execution_count": null,
      "metadata": {
        "id": "Q4KBeY5tBcfX"
      },
      "outputs": [],
      "source": [
        "model.compile(optimizer=keras.optimizers.RMSprop(),\n",
        "              loss=keras.losses.MeanSquaredError(),\n",
        "              metrics=[keras.metrics.BinaryAccuracy()])"
      ]
    },
    {
      "cell_type": "markdown",
      "metadata": {
        "id": "IKqcUqMOBcfX"
      },
      "source": [
        "### Picking a loss function"
      ]
    },
    {
      "cell_type": "markdown",
      "metadata": {
        "id": "e8-4JShYBcfX"
      },
      "source": [
        "### Understanding the fit() method"
      ]
    },
    {
      "cell_type": "markdown",
      "metadata": {
        "id": "gT61MJF2BcfX"
      },
      "source": [
        "**Calling `fit()` with NumPy data**"
      ]
    },
    {
      "cell_type": "code",
      "execution_count": null,
      "metadata": {
        "id": "FYkFyqGxBcfX",
        "colab": {
          "base_uri": "https://localhost:8080/"
        },
        "outputId": "cd20b9e6-987b-4a37-f19c-9f3b77b7658e"
      },
      "outputs": [
        {
          "output_type": "stream",
          "name": "stdout",
          "text": [
            "Epoch 1/5\n",
            "16/16 [==============================] - 0s 2ms/step - loss: 11.2874 - binary_accuracy: 0.9970\n",
            "Epoch 2/5\n",
            "16/16 [==============================] - 0s 2ms/step - loss: 10.8917 - binary_accuracy: 0.9970\n",
            "Epoch 3/5\n",
            "16/16 [==============================] - 0s 2ms/step - loss: 10.5572 - binary_accuracy: 0.9970\n",
            "Epoch 4/5\n",
            "16/16 [==============================] - 0s 2ms/step - loss: 10.2345 - binary_accuracy: 0.9970\n",
            "Epoch 5/5\n",
            "16/16 [==============================] - 0s 2ms/step - loss: 9.9219 - binary_accuracy: 0.9970\n"
          ]
        }
      ],
      "source": [
        "history = model.fit(\n",
        "    inputs,\n",
        "    targets,\n",
        "    epochs=5,\n",
        "    batch_size=128\n",
        ")"
      ]
    },
    {
      "cell_type": "code",
      "execution_count": null,
      "metadata": {
        "id": "Id0og2xOBcfX",
        "colab": {
          "base_uri": "https://localhost:8080/"
        },
        "outputId": "2bfe07e1-97ee-4ad4-a08b-7b6499311650"
      },
      "outputs": [
        {
          "output_type": "execute_result",
          "data": {
            "text/plain": [
              "{'loss': [11.287431716918945,\n",
              "  10.891681671142578,\n",
              "  10.55721664428711,\n",
              "  10.23453140258789,\n",
              "  9.92186164855957],\n",
              " 'binary_accuracy': [0.996999979019165,\n",
              "  0.996999979019165,\n",
              "  0.996999979019165,\n",
              "  0.996999979019165,\n",
              "  0.996999979019165]}"
            ]
          },
          "metadata": {},
          "execution_count": 118
        }
      ],
      "source": [
        "history.history"
      ]
    },
    {
      "cell_type": "markdown",
      "metadata": {
        "id": "VKcfm4IMBcfY"
      },
      "source": [
        "### Monitoring loss and metrics on validation data"
      ]
    },
    {
      "cell_type": "markdown",
      "metadata": {
        "id": "OD1o8b8IBcfY"
      },
      "source": [
        "**Using the `validation_data` argument**"
      ]
    },
    {
      "cell_type": "code",
      "execution_count": null,
      "metadata": {
        "id": "QsFYF79NBcfY",
        "colab": {
          "base_uri": "https://localhost:8080/"
        },
        "outputId": "74898ae6-811d-4a9b-91e8-198c30af6a27"
      },
      "outputs": [
        {
          "output_type": "stream",
          "name": "stdout",
          "text": [
            "Epoch 1/5\n",
            "88/88 [==============================] - 1s 6ms/step - loss: 0.2449 - binary_accuracy: 0.9579 - val_loss: 0.0308 - val_binary_accuracy: 0.9950\n",
            "Epoch 2/5\n",
            "88/88 [==============================] - 0s 2ms/step - loss: 0.0706 - binary_accuracy: 0.9614 - val_loss: 0.0307 - val_binary_accuracy: 0.9933\n",
            "Epoch 3/5\n",
            "88/88 [==============================] - 0s 3ms/step - loss: 0.0706 - binary_accuracy: 0.9600 - val_loss: 0.0377 - val_binary_accuracy: 0.9933\n",
            "Epoch 4/5\n",
            "88/88 [==============================] - 0s 5ms/step - loss: 0.0735 - binary_accuracy: 0.9586 - val_loss: 0.0811 - val_binary_accuracy: 0.9750\n",
            "Epoch 5/5\n",
            "88/88 [==============================] - 1s 6ms/step - loss: 0.0707 - binary_accuracy: 0.9586 - val_loss: 0.1145 - val_binary_accuracy: 0.9817\n"
          ]
        },
        {
          "output_type": "execute_result",
          "data": {
            "text/plain": [
              "<keras.callbacks.History at 0x7fb89067af90>"
            ]
          },
          "metadata": {},
          "execution_count": 119
        }
      ],
      "source": [
        "model = keras.Sequential([keras.layers.Dense(1)])\n",
        "model.compile(optimizer=keras.optimizers.RMSprop(learning_rate=0.1),\n",
        "              loss=keras.losses.MeanSquaredError(),\n",
        "              metrics=[keras.metrics.BinaryAccuracy()])\n",
        "\n",
        "indices_permutation = np.random.permutation(len(inputs))\n",
        "shuffled_inputs = inputs[indices_permutation]\n",
        "shuffled_targets = targets[indices_permutation]\n",
        "\n",
        "num_validation_samples = int(0.3 * len(inputs))\n",
        "val_inputs = shuffled_inputs[:num_validation_samples]\n",
        "val_targets = shuffled_targets[:num_validation_samples]\n",
        "training_inputs = shuffled_inputs[num_validation_samples:]\n",
        "training_targets = shuffled_targets[num_validation_samples:]\n",
        "model.fit(\n",
        "    training_inputs,\n",
        "    training_targets,\n",
        "    epochs=5,\n",
        "    batch_size=16,\n",
        "    validation_data=(val_inputs, val_targets)\n",
        ")"
      ]
    },
    {
      "cell_type": "markdown",
      "metadata": {
        "id": "V82vhXB5BcfY"
      },
      "source": [
        "### Inference: Using a model after training"
      ]
    },
    {
      "cell_type": "code",
      "execution_count": null,
      "metadata": {
        "id": "tS28w26oBcfY",
        "colab": {
          "base_uri": "https://localhost:8080/"
        },
        "outputId": "f94dd566-0927-420c-a28b-d6b2c2aa0ef6"
      },
      "outputs": [
        {
          "output_type": "stream",
          "name": "stdout",
          "text": [
            "[[-0.0573346 ]\n",
            " [ 0.80567956]\n",
            " [-0.614725  ]\n",
            " [ 0.94929063]\n",
            " [-0.239149  ]\n",
            " [ 0.2160391 ]\n",
            " [ 1.0730915 ]\n",
            " [-0.5302316 ]\n",
            " [ 0.8348721 ]\n",
            " [-0.4090955 ]]\n"
          ]
        }
      ],
      "source": [
        "predictions = model.predict(val_inputs, batch_size=128)\n",
        "print(predictions[:10])"
      ]
    }
  ],
  "metadata": {
    "colab": {
      "collapsed_sections": [],
      "provenance": []
    },
    "kernelspec": {
      "display_name": "Python 3",
      "language": "python",
      "name": "python3"
    },
    "language_info": {
      "codemirror_mode": {
        "name": "ipython",
        "version": 3
      },
      "file_extension": ".py",
      "mimetype": "text/x-python",
      "name": "python",
      "nbconvert_exporter": "python",
      "pygments_lexer": "ipython3",
      "version": "3.7.0"
    }
  },
  "nbformat": 4,
  "nbformat_minor": 0
}